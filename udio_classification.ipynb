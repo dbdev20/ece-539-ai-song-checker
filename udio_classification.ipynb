{
 "cells": [
  {
   "cell_type": "code",
   "execution_count": 24,
   "id": "9acdeb8f-7ab6-47e7-a1a7-2e7d32e1a649",
   "metadata": {},
   "outputs": [
    {
     "name": "stdout",
     "output_type": "stream",
     "text": [
      "Random Forest accuracy: 0.255\n"
     ]
    }
   ],
   "source": [
    "# Classification with RandomForest\n",
    "\n",
    "import pandas as pd\n",
    "from sklearn.ensemble import RandomForestClassifier\n",
    "from sklearn.metrics import accuracy_score, classification_report\n",
    "\n",
    "# Load and clean training data\n",
    "train_df = pd.read_csv(\"extracted_features.csv\")\n",
    "for col in train_df.select_dtypes(include=\"object\"):\n",
    "    train_df[col] = train_df[col].str.strip(\"[]\").astype(float)\n",
    "\n",
    "# Train RandomForest\n",
    "X_train = train_df.drop(\"label\", axis=1)\n",
    "y_train = train_df[\"label\"]\n",
    "rf = RandomForestClassifier(n_estimators=100, random_state=42)\n",
    "rf.fit(X_train, y_train)\n",
    "\n",
    "# Load and clean new examples\n",
    "new_df = pd.read_csv(\"extracted_features_udio.csv\", index_col=0)\n",
    "# drop any stray index or old label columns\n",
    "drop_cols = [c for c in new_df.columns if c.startswith(\"Unnamed\")] + [\"label\"]\n",
    "new_df = new_df.drop(columns=[c for c in drop_cols if c in new_df], errors=\"ignore\")\n",
    "for col in new_df.select_dtypes(include=\"object\"):\n",
    "    new_df[col] = new_df[col].str.strip(\"[]\").astype(float)\n",
    "new_df[\"label\"] = 1\n",
    "\n",
    "# Predict and report\n",
    "X_new = new_df.drop(\"label\", axis=1)\n",
    "y_new = new_df[\"label\"]\n",
    "preds = rf.predict(X_new)\n",
    "\n",
    "print(f\"Random Forest accuracy: {accuracy_score(y_new, preds):.3f}\")\n"
   ]
  },
  {
   "cell_type": "code",
   "execution_count": 17,
   "id": "b6aa1298-8a59-4ba0-a18c-f671d22c94f5",
   "metadata": {},
   "outputs": [
    {
     "name": "stdout",
     "output_type": "stream",
     "text": [
      "Best CV Acc: 0.957, Params: {'svc__C': 10, 'svc__gamma': 'scale'}\n",
      "Udio Acc: 0.712\n"
     ]
    }
   ],
   "source": [
    "# We observe very low accuracy on Udio songs with the naive RandomForest approach.\n",
    "# Try a more nuanced approach: Top-10 features only, SVM, with hyperparameter tuning\n",
    "\n",
    "from sklearn.pipeline import Pipeline\n",
    "from sklearn.preprocessing import StandardScaler, PolynomialFeatures\n",
    "from sklearn.svm import SVC\n",
    "from sklearn.model_selection import GridSearchCV\n",
    "from sklearn.metrics import accuracy_score\n",
    "\n",
    "features = [\n",
    "    'spectral_flatness','mfcc_6_std','mfcc_6_mean',\n",
    "    'shimmer','mfcc_4_std','mfcc_1_mean',\n",
    "    'dynamic_range','jitter','mfcc_5_mean','mfcc_5_std'\n",
    "]\n",
    "\n",
    "X = train_df[features]\n",
    "y = train_df['label']\n",
    "\n",
    "pipe = Pipeline([\n",
    "    ('scaler', StandardScaler()),\n",
    "    ('poly', PolynomialFeatures(2, include_bias=False)),\n",
    "    ('svc', SVC(kernel='rbf'))\n",
    "])\n",
    "\n",
    "param_grid = {\n",
    "    'svc__C': [0.1, 1, 10],\n",
    "    'svc__gamma': ['scale', 0.1, 1]\n",
    "}\n",
    "\n",
    "grid = GridSearchCV(pipe, param_grid, cv=5, scoring='accuracy', n_jobs=-1)\n",
    "grid.fit(X, y)\n",
    "\n",
    "print(f\"Best CV Acc: {grid.best_score_:.3f}, Params: {grid.best_params_}\")\n",
    "\n",
    "pred = grid.predict(new_df[features])\n",
    "print(f\"Udio Acc: {accuracy_score(new_df['label'], pred):.3f}\")\n"
   ]
  },
  {
   "cell_type": "code",
   "execution_count": null,
   "id": "621258ea-db56-4d36-a0d2-8507da945793",
   "metadata": {},
   "outputs": [],
   "source": []
  }
 ],
 "metadata": {
  "kernelspec": {
   "display_name": "Python 3 (ipykernel)",
   "language": "python",
   "name": "python3"
  },
  "language_info": {
   "codemirror_mode": {
    "name": "ipython",
    "version": 3
   },
   "file_extension": ".py",
   "mimetype": "text/x-python",
   "name": "python",
   "nbconvert_exporter": "python",
   "pygments_lexer": "ipython3",
   "version": "3.10.14"
  }
 },
 "nbformat": 4,
 "nbformat_minor": 5
}
